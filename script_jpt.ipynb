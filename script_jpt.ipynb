{
 "cells": [
  {
   "cell_type": "code",
   "execution_count": 5,
   "id": "f5846d4d",
   "metadata": {},
   "outputs": [],
   "source": [
    "import pandas as pd\n",
    "import numpy as np\n",
    "from sklearn.model_selection import KFold, train_test_split\n",
    "from sklearn.metrics import accuracy_score, precision_score, recall_score, f1_score\n",
    "from sklearn.ensemble import RandomForestClassifier\n",
    "from sklearn.model_selection import GridSearchCV\n",
    "\n",
    "from imblearn.under_sampling import NearMiss\n",
    "from collections import Counter\n",
    "import gc"
   ]
  },
  {
   "cell_type": "code",
   "execution_count": 3,
   "id": "7355f276",
   "metadata": {},
   "outputs": [],
   "source": [
    "df = pd.read_csv(\"df_train.csv\")"
   ]
  },
  {
   "cell_type": "code",
   "execution_count": 13,
   "id": "ded01ed3",
   "metadata": {},
   "outputs": [
    {
     "data": {
      "text/plain": [
       "int64      40\n",
       "float64    37\n",
       "Name: count, dtype: int64"
      ]
     },
     "execution_count": 13,
     "metadata": {},
     "output_type": "execute_result"
    }
   ],
   "source": [
    "df.dtypes.value_counts()"
   ]
  },
  {
   "cell_type": "code",
   "execution_count": null,
   "id": "d0e1447b",
   "metadata": {},
   "outputs": [
    {
     "data": {
      "text/plain": [
       "float32    26\n",
       "bool       18\n",
       "int32      15\n",
       "float16     9\n",
       "int16       4\n",
       "float64     2\n",
       "int8        2\n",
       "int64       1\n",
       "Name: count, dtype: int64"
      ]
     },
     "execution_count": 15,
     "metadata": {},
     "output_type": "execute_result"
    }
   ],
   "source": [
    "def reduzir_tipos(df):\n",
    "    df_otimizado = df.copy()\n",
    "\n",
    "    for col in df.columns:\n",
    "        col_data = df[col]\n",
    "\n",
    "        if pd.api.types.is_numeric_dtype(col_data):\n",
    "            col_min = col_data.min()\n",
    "            col_max = col_data.max()\n",
    "\n",
    "            # transforma em booleano se tiver só 0 e 1\n",
    "            if set(col_data.unique()).issubset({0, 1}):\n",
    "                df_otimizado[col] = col_data.astype(bool)\n",
    "                continue\n",
    "\n",
    "            # inteirso\n",
    "            if pd.api.types.is_integer_dtype(col_data):\n",
    "                if np.iinfo(np.int8).min <= col_min and col_max <= np.iinfo(np.int8).max:\n",
    "                    df_otimizado[col] = col_data.astype(np.int8)\n",
    "                elif np.iinfo(np.int16).min <= col_min and col_max <= np.iinfo(np.int16).max:\n",
    "                    df_otimizado[col] = col_data.astype(np.int16)\n",
    "                elif np.iinfo(np.int32).min <= col_min and col_max <= np.iinfo(np.int32).max:\n",
    "                    df_otimizado[col] = col_data.astype(np.int32)\n",
    "                else:\n",
    "                    df_otimizado[col] = col_data.astype(np.int64)\n",
    "\n",
    "            #floats\n",
    "            elif pd.api.types.is_float_dtype(col_data):\n",
    "                if np.finfo(np.float16).min <= col_min and col_max <= np.finfo(np.float16).max:\n",
    "                    df_otimizado[col] = col_data.astype(np.float16)\n",
    "                elif np.finfo(np.float32).min <= col_min and col_max <= np.finfo(np.float32).max:\n",
    "                    df_otimizado[col] = col_data.astype(np.float32)\n",
    "                else:\n",
    "                    df_otimizado[col] = col_data.astype(np.float64)\n",
    "\n",
    "    return df_otimizado\n",
    "df_otimizado = reduzir_tipos(df)\n",
    "df_otimizado.dtypes.value_counts()"
   ]
  },
  {
   "cell_type": "code",
   "execution_count": 18,
   "id": "8cf4897a",
   "metadata": {},
   "outputs": [],
   "source": [
    "df_otimizado.to_csv(\"df_train_otimizado.csv\", index=False)"
   ]
  },
  {
   "cell_type": "code",
   "execution_count": 12,
   "id": "53caecf1",
   "metadata": {},
   "outputs": [],
   "source": [
    "df_otimizado = pd.read_csv(\"df_train_otimizado.csv\")"
   ]
  },
  {
   "cell_type": "code",
   "execution_count": 7,
   "id": "e8b687a4",
   "metadata": {},
   "outputs": [],
   "source": [
    "x = df_otimizado.drop('label', axis=1)\n",
    "y = df_otimizado['label']\n",
    "\n",
    "x_clean = x.replace([np.inf, -np.inf], np.nan)\n",
    "x_clean = x_clean.fillna(x_clean.mean())\n",
    "\n",
    "x1 = x_clean.values\n",
    "y1 = y.values"
   ]
  },
  {
   "cell_type": "code",
   "execution_count": 8,
   "id": "fd09ba67",
   "metadata": {},
   "outputs": [],
   "source": [
    "del df_otimizado, x, y, x_clean"
   ]
  },
  {
   "cell_type": "code",
   "execution_count": 9,
   "id": "fa20e519",
   "metadata": {},
   "outputs": [],
   "source": [
    "rf = RandomForestClassifier(n_estimators=200, max_depth=30, n_jobs=-1, random_state=42)\n",
    "kf = KFold(n_splits=10, shuffle=True, random_state=42)\n",
    "\n",
    "test_scores_RF_mdi, precision_scores_RF_mdi, recall_scores_RF_mdi, f1_scores_RF_mdi = [], [], [], []\n",
    "feature_importances_list = []\n",
    "\n",
    "rf_base = RandomForestClassifier(max_features='sqrt', random_state=42)"
   ]
  },
  {
   "cell_type": "code",
   "execution_count": 10,
   "id": "441c94bb",
   "metadata": {},
   "outputs": [
    {
     "data": {
      "text/plain": [
       "72"
      ]
     },
     "execution_count": 10,
     "metadata": {},
     "output_type": "execute_result"
    }
   ],
   "source": [
    "X_train, X_test, Y_train, Y_test = train_test_split(x1, y1, test_size=0.2, stratify=y1, random_state=42)\n",
    "\n",
    "rf.fit(X_train, Y_train)\n",
    "\n",
    "feature_importances_list.append(rf.feature_importances_)\n",
    "\n",
    "y_pred = rf.predict(X_test)\n",
    "test_scores_RF_mdi.append(accuracy_score(Y_test, y_pred))\n",
    "precision_scores_RF_mdi.append(precision_score(Y_test, y_pred, average='weighted'))\n",
    "recall_scores_RF_mdi.append(recall_score(Y_test, y_pred, average='weighted'))\n",
    "f1_scores_RF_mdi.append(f1_score(Y_test, y_pred, average='weighted'))\n",
    "\n",
    "del X_train, X_test, Y_train, Y_test, rf, y_pred\n",
    "gc.collect()"
   ]
  },
  {
   "cell_type": "code",
   "execution_count": 13,
   "id": "a3c9f5f9",
   "metadata": {},
   "outputs": [],
   "source": [
    "# Redução de features\n",
    "importances_mean = np.mean(feature_importances_list, axis=0)\n",
    "importances_series = pd.Series(importances_mean, index=df_otimizado.drop('label', axis=1).columns)\n",
    "selected_features = importances_series[importances_series >= importances_series.median()].index.tolist()\n",
    "df_reduced = df_otimizado[selected_features + ['label']]"
   ]
  },
  {
   "cell_type": "code",
   "execution_count": 14,
   "id": "988a62f7",
   "metadata": {},
   "outputs": [],
   "source": [
    "metrics_mdi = pd.DataFrame({\n",
    "    \"Modelo\": [\"RandomForest\"],\n",
    "    \"Acurácia\": [np.mean(test_scores_RF_mdi)],\n",
    "    \"Precisão\": [np.mean(precision_scores_RF_mdi)],\n",
    "    \"Recall\": [np.mean(recall_scores_RF_mdi)],\n",
    "    \"F1 Score\": [np.mean(f1_scores_RF_mdi)]\n",
    "})\n",
    "\n",
    "metrics_mdi.to_csv(\"metrics_mdi.csv\", index=False)\n",
    "df_reduced.to_csv(\"df_reduced_quant.csv\", index=False)"
   ]
  },
  {
   "cell_type": "code",
   "execution_count": 17,
   "id": "f4350e05",
   "metadata": {},
   "outputs": [
    {
     "data": {
      "text/plain": [
       "39"
      ]
     },
     "execution_count": 17,
     "metadata": {},
     "output_type": "execute_result"
    }
   ],
   "source": [
    "df_reduced.columns.__len__()"
   ]
  },
  {
   "cell_type": "code",
   "execution_count": 5,
   "id": "16452d69",
   "metadata": {},
   "outputs": [
    {
     "name": "stderr",
     "output_type": "stream",
     "text": [
      "C:\\Users\\mikae\\AppData\\Local\\Temp\\ipykernel_3068\\286496714.py:1: DeprecationWarning: DataFrameGroupBy.apply operated on the grouping columns. This behavior is deprecated, and in a future version of pandas the grouping columns will be excluded from the operation. Either pass `include_groups=False` to exclude the groupings or explicitly select the grouping columns after groupby to silence this warning.\n",
      "  df_sampled = df.groupby('label').apply(lambda x: x.sample(n=1000, random_state=42)).reset_index(drop=True)\n"
     ]
    }
   ],
   "source": [
    "df_sampled = df.groupby('label').apply(lambda x: x.sample(n=1000, random_state=42)).reset_index(drop=True)"
   ]
  },
  {
   "cell_type": "code",
   "execution_count": 6,
   "id": "8463c00c",
   "metadata": {},
   "outputs": [],
   "source": [
    "df_sampled.to_csv(\"df_sampled.csv\", index=False)"
   ]
  },
  {
   "cell_type": "code",
   "execution_count": 7,
   "id": "cb6e9631",
   "metadata": {},
   "outputs": [
    {
     "data": {
      "text/plain": [
       "label\n",
       "0    1000\n",
       "1    1000\n",
       "2    1000\n",
       "3    1000\n",
       "4    1000\n",
       "Name: count, dtype: int64"
      ]
     },
     "execution_count": 7,
     "metadata": {},
     "output_type": "execute_result"
    }
   ],
   "source": [
    "df_sampled['label'].value_counts()"
   ]
  },
  {
   "cell_type": "code",
   "execution_count": null,
   "id": "ddd86fb3",
   "metadata": {},
   "outputs": [],
   "source": []
  }
 ],
 "metadata": {
  "kernelspec": {
   "display_name": "venv",
   "language": "python",
   "name": "python3"
  },
  "language_info": {
   "codemirror_mode": {
    "name": "ipython",
    "version": 3
   },
   "file_extension": ".py",
   "mimetype": "text/x-python",
   "name": "python",
   "nbconvert_exporter": "python",
   "pygments_lexer": "ipython3",
   "version": "3.13.1"
  }
 },
 "nbformat": 4,
 "nbformat_minor": 5
}
