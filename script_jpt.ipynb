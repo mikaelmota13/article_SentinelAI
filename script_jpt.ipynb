{
 "cells": [
  {
   "cell_type": "code",
   "execution_count": 2,
   "id": "f5846d4d",
   "metadata": {},
   "outputs": [],
   "source": [
    "import pandas as pd\n",
    "import numpy as np\n",
    "from sklearn.model_selection import KFold, train_test_split\n",
    "from sklearn.metrics import accuracy_score, precision_score, recall_score, f1_score\n",
    "from sklearn.ensemble import RandomForestClassifier\n",
    "from sklearn.model_selection import GridSearchCV\n",
    "\n",
    "from imblearn.under_sampling import NearMiss\n",
    "from collections import Counter\n",
    "import gc"
   ]
  },
  {
   "cell_type": "code",
   "execution_count": 3,
   "id": "7355f276",
   "metadata": {},
   "outputs": [],
   "source": [
    "df = pd.read_csv(\"df_train.csv\")"
   ]
  },
  {
   "cell_type": "code",
   "execution_count": 3,
   "id": "e8b687a4",
   "metadata": {},
   "outputs": [],
   "source": [
    "x = df.drop('label', axis=1)\n",
    "y = df['label']\n",
    "\n",
    "x_clean = x.replace([np.inf, -np.inf], np.nan)\n",
    "x_clean = x_clean.fillna(x_clean.mean())\n",
    "\n",
    "x1 = x_clean.values\n",
    "y1 = y.values"
   ]
  },
  {
   "cell_type": "code",
   "execution_count": 4,
   "id": "fd09ba67",
   "metadata": {},
   "outputs": [],
   "source": [
    "del df, x, y, x_clean"
   ]
  },
  {
   "cell_type": "code",
   "execution_count": 13,
   "id": "fa20e519",
   "metadata": {},
   "outputs": [],
   "source": [
    "x1 = x1.astype('float32')\n",
    "\n",
    "rf = RandomForestClassifier(n_estimators=200, max_depth=30, n_jobs=-1, random_state=42)\n",
    "kf = KFold(n_splits=10, shuffle=True, random_state=42)\n",
    "\n",
    "test_scores_RF_mdi, precision_scores_RF_mdi, recall_scores_RF_mdi, f1_scores_RF_mdi = [], [], [], []\n",
    "feature_importances_list = []\n",
    "\n",
    "rf_base = RandomForestClassifier(max_features='sqrt', random_state=42)"
   ]
  },
  {
   "cell_type": "code",
   "execution_count": 14,
   "id": "441c94bb",
   "metadata": {},
   "outputs": [
    {
     "data": {
      "text/plain": [
       "5398"
      ]
     },
     "execution_count": 14,
     "metadata": {},
     "output_type": "execute_result"
    }
   ],
   "source": [
    "X_train, X_test, Y_train, Y_test = train_test_split(x1, y1, test_size=0.2, stratify=y1, random_state=42)\n",
    "\n",
    "rf.fit(X_train, Y_train)\n",
    "\n",
    "feature_importances_list.append(rf.feature_importances_)\n",
    "\n",
    "y_pred = rf.predict(X_test)\n",
    "test_scores_RF_mdi.append(accuracy_score(Y_test, y_pred))\n",
    "precision_scores_RF_mdi.append(precision_score(Y_test, y_pred, average='weighted'))\n",
    "recall_scores_RF_mdi.append(recall_score(Y_test, y_pred, average='weighted'))\n",
    "f1_scores_RF_mdi.append(f1_score(Y_test, y_pred, average='weighted'))\n",
    "\n",
    "del X_train, X_test, Y_train, Y_test, rf, y_pred\n",
    "gc.collect()\n"
   ]
  },
  {
   "cell_type": "code",
   "execution_count": 19,
   "id": "a3c9f5f9",
   "metadata": {},
   "outputs": [],
   "source": [
    "# Redução de features\n",
    "importances_mean = np.mean(feature_importances_list, axis=0)\n",
    "importances_series = pd.Series(importances_mean, index=df.drop('label', axis=1).columns)\n",
    "selected_features = importances_series[importances_series >= importances_series.median()].index.tolist()\n",
    "df_reduced = df[selected_features + ['label']]"
   ]
  },
  {
   "cell_type": "code",
   "execution_count": 20,
   "id": "988a62f7",
   "metadata": {},
   "outputs": [],
   "source": [
    "metrics_mdi = pd.DataFrame({\n",
    "    \"Modelo\": [\"RandomForest\"],\n",
    "    \"Acurácia\": [np.mean(test_scores_RF_mdi)],\n",
    "    \"Precisão\": [np.mean(precision_scores_RF_mdi)],\n",
    "    \"Recall\": [np.mean(recall_scores_RF_mdi)],\n",
    "    \"F1 Score\": [np.mean(f1_scores_RF_mdi)]\n",
    "})\n",
    "\n",
    "metrics_mdi.to_csv(\"metrics_mdi.csv\", index=False)\n",
    "df_reduced.to_csv(\"df_reduced.csv\", index=False)"
   ]
  },
  {
   "cell_type": "code",
   "execution_count": 22,
   "id": "f4350e05",
   "metadata": {},
   "outputs": [
    {
     "data": {
      "text/plain": [
       "label\n",
       "0    6879056\n",
       "1    1722730\n",
       "2     381790\n",
       "3     288157\n",
       "4     158930\n",
       "Name: count, dtype: int64"
      ]
     },
     "execution_count": 22,
     "metadata": {},
     "output_type": "execute_result"
    }
   ],
   "source": [
    "df_reduced['label'].value_counts()"
   ]
  },
  {
   "cell_type": "code",
   "execution_count": 1,
   "id": "16452d69",
   "metadata": {},
   "outputs": [
    {
     "ename": "NameError",
     "evalue": "name 'df_reduced' is not defined",
     "output_type": "error",
     "traceback": [
      "\u001b[31m---------------------------------------------------------------------------\u001b[39m",
      "\u001b[31mNameError\u001b[39m                                 Traceback (most recent call last)",
      "\u001b[36mCell\u001b[39m\u001b[36m \u001b[39m\u001b[32mIn[1]\u001b[39m\u001b[32m, line 1\u001b[39m\n\u001b[32m----> \u001b[39m\u001b[32m1\u001b[39m df_sampled = \u001b[43mdf_reduced\u001b[49m.groupby(\u001b[33m'\u001b[39m\u001b[33mlabel\u001b[39m\u001b[33m'\u001b[39m).apply(\u001b[38;5;28;01mlambda\u001b[39;00m x: x.sample(n=\u001b[32m1000\u001b[39m, random_state=\u001b[32m42\u001b[39m)).reset_index(drop=\u001b[38;5;28;01mTrue\u001b[39;00m)\n",
      "\u001b[31mNameError\u001b[39m: name 'df_reduced' is not defined"
     ]
    }
   ],
   "source": [
    "df_sampled = df_reduced.groupby('label').apply(lambda x: x.sample(n=1000, random_state=42)).reset_index(drop=True)"
   ]
  },
  {
   "cell_type": "code",
   "execution_count": 26,
   "id": "8463c00c",
   "metadata": {},
   "outputs": [],
   "source": [
    "df_sampled.to_csv(\"df_sampled.csv\", index=False)"
   ]
  },
  {
   "cell_type": "code",
   "execution_count": 27,
   "id": "cb6e9631",
   "metadata": {},
   "outputs": [
    {
     "data": {
      "text/plain": [
       "label\n",
       "0    100\n",
       "1    100\n",
       "2    100\n",
       "3    100\n",
       "4    100\n",
       "Name: count, dtype: int64"
      ]
     },
     "execution_count": 27,
     "metadata": {},
     "output_type": "execute_result"
    }
   ],
   "source": [
    "df_sampled['label'].value_counts()"
   ]
  },
  {
   "cell_type": "code",
   "execution_count": null,
   "id": "ddd86fb3",
   "metadata": {},
   "outputs": [],
   "source": []
  }
 ],
 "metadata": {
  "kernelspec": {
   "display_name": "venv",
   "language": "python",
   "name": "python3"
  },
  "language_info": {
   "codemirror_mode": {
    "name": "ipython",
    "version": 3
   },
   "file_extension": ".py",
   "mimetype": "text/x-python",
   "name": "python",
   "nbconvert_exporter": "python",
   "pygments_lexer": "ipython3",
   "version": "3.13.1"
  }
 },
 "nbformat": 4,
 "nbformat_minor": 5
}
