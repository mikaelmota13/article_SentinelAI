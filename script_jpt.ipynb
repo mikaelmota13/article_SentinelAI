{
 "cells": [
  {
   "cell_type": "code",
   "execution_count": 1,
   "id": "f5846d4d",
   "metadata": {},
   "outputs": [],
   "source": [
    "import pandas as pd\n",
    "import numpy as np\n",
    "from sklearn.model_selection import KFold, train_test_split\n",
    "from sklearn.metrics import accuracy_score, precision_score, recall_score, f1_score\n",
    "from sklearn.ensemble import RandomForestClassifier\n",
    "from sklearn.model_selection import GridSearchCV\n",
    "\n",
    "from imblearn.under_sampling import NearMiss\n",
    "from collections import Counter\n",
    "import gc"
   ]
  },
  {
   "cell_type": "code",
   "execution_count": 2,
   "id": "eb7d1cc0",
   "metadata": {},
   "outputs": [],
   "source": [
    "df_parquet = pd.read_parquet('df.parquet')"
   ]
  },
  {
   "cell_type": "code",
   "execution_count": 5,
   "id": "43096dc2",
   "metadata": {},
   "outputs": [
    {
     "data": {
      "text/plain": [
       "Index(['fwd_iat_mean', 'bwd_pkt_len_mean', 'fwd_iat_tot', 'pkt_len_var',\n",
       "       'init_fwd_win_byts', 'subflow_bwd_byts', 'pkt_len_mean', 'pkt_size_avg',\n",
       "       'bwd_header_len', 'totlen_bwd_pkts', 'fwd_act_data_pkts', 'flow_byts/s',\n",
       "       'flow_iat_mean', 'fwd_pkts/s', 'tot_bwd_pkts', 'flow_pkts/s',\n",
       "       'bwd_pkt_len_std', 'pkt_len_std', 'bwd_seg_size_avg', 'fwd_iat_min',\n",
       "       'pkt_len_max', 'flow_iat_max', 'tot_fwd_pkts', 'bwd_pkt_len_max',\n",
       "       'bwd_pkts/s', 'flow_iat_min', 'fwd_header_len', 'fwd_seg_size_min',\n",
       "       'totlen_fwd_pkts', 'fwd_pkt_len_mean', 'flow_duration',\n",
       "       'subflow_bwd_pkts', 'fwd_iat_max', 'fwd_seg_size_avg',\n",
       "       'init_bwd_win_byts', 'fwd_pkt_len_max', 'subflow_fwd_pkts',\n",
       "       'subflow_fwd_byts', 'label'],\n",
       "      dtype='object')"
      ]
     },
     "execution_count": 5,
     "metadata": {},
     "output_type": "execute_result"
    }
   ],
   "source": [
    "df_parquet.columns"
   ]
  },
  {
   "cell_type": "code",
   "execution_count": 17,
   "id": "7e3305b8",
   "metadata": {},
   "outputs": [],
   "source": [
    "x_train = pd.read_parquet(r\"subamostragem\\X_resampled_ho.parquet\")\n",
    "y_train = pd.read_parquet(r\"subamostragem\\Y_resampled_ho.parquet\")"
   ]
  },
  {
   "cell_type": "code",
   "execution_count": 20,
   "id": "7224b772",
   "metadata": {},
   "outputs": [
    {
     "data": {
      "text/plain": [
       "float16    30\n",
       "float32     8\n",
       "Name: count, dtype: int64"
      ]
     },
     "execution_count": 20,
     "metadata": {},
     "output_type": "execute_result"
    }
   ],
   "source": [
    "x_train.dtypes.value_counts()"
   ]
  },
  {
   "cell_type": "code",
   "execution_count": null,
   "id": "3eee02b3",
   "metadata": {},
   "outputs": [
    {
     "name": "stderr",
     "output_type": "stream",
     "text": [
      "c:\\Users\\mikae\\toCode\\Artigo_IA\\ondocker\\venv\\Lib\\site-packages\\pandas\\core\\nanops.py:1496: RuntimeWarning: overflow encountered in cast\n",
      "  return count.astype(dtype, copy=False)\n",
      "c:\\Users\\mikae\\toCode\\Artigo_IA\\ondocker\\venv\\Lib\\site-packages\\numpy\\_core\\_methods.py:52: RuntimeWarning: overflow encountered in reduce\n",
      "  return umr_sum(a, axis, dtype, out, keepdims, initial, where)\n",
      "c:\\Users\\mikae\\toCode\\Artigo_IA\\ondocker\\venv\\Lib\\site-packages\\pandas\\core\\computation\\expressions.py:73: RuntimeWarning: overflow encountered in cast\n",
      "  return op(a, b)\n",
      "c:\\Users\\mikae\\toCode\\Artigo_IA\\ondocker\\venv\\Lib\\site-packages\\pandas\\core\\computation\\expressions.py:73: RuntimeWarning: overflow encountered in cast\n",
      "  return op(a, b)\n"
     ]
    }
   ],
   "source": [
    "x_train = x_train.replace([np.inf, -np.inf], np.nan)\n",
    "x_train = x_train.fillna(x_train.mean(numeric_only=True))\n",
    "x_train = x_train.clip(lower=-1e10, upper=1e10)\n",
    "x_train = x_train.astype(np.float32)"
   ]
  },
  {
   "cell_type": "code",
   "execution_count": 3,
   "id": "cb55bf4e",
   "metadata": {},
   "outputs": [
    {
     "name": "stdout",
     "output_type": "stream",
     "text": [
      "Total de NaN: 63288, Total de ±Inf: 0\n"
     ]
    },
    {
     "name": "stderr",
     "output_type": "stream",
     "text": [
      "c:\\Users\\mikae\\toCode\\Artigo_IA\\ondocker\\venv\\Lib\\site-packages\\pandas\\core\\nanops.py:1496: RuntimeWarning: overflow encountered in cast\n",
      "  return count.astype(dtype, copy=False)\n",
      "c:\\Users\\mikae\\toCode\\Artigo_IA\\ondocker\\venv\\Lib\\site-packages\\numpy\\_core\\_methods.py:52: RuntimeWarning: overflow encountered in reduce\n",
      "  return umr_sum(a, axis, dtype, out, keepdims, initial, where)\n"
     ]
    }
   ],
   "source": [
    "def limpar_nan_inf(df):\n",
    "    df = df.replace([np.inf, -np.inf], np.nan)\n",
    "    nan_count = df.isna().sum().sum()\n",
    "    inf_count = np.isinf(df.to_numpy()).sum()\n",
    "    print(f\"Total de NaN: {nan_count}, Total de ±Inf: {inf_count}\")\n",
    "    return df.fillna(df.mean())\n",
    "\n",
    "# Exemplo de uso:\n",
    "df_parquet = limpar_nan_inf(df_parquet)"
   ]
  },
  {
   "cell_type": "code",
   "execution_count": 4,
   "id": "cf9a55ac",
   "metadata": {},
   "outputs": [],
   "source": [
    "df_parquet.to_parquet(\"df_parquet_cleaned.parquet\", index=False)"
   ]
  },
  {
   "cell_type": "code",
   "execution_count": 6,
   "id": "61d56714",
   "metadata": {},
   "outputs": [
    {
     "data": {
      "text/plain": [
       "(9430663, 39)"
      ]
     },
     "execution_count": 6,
     "metadata": {},
     "output_type": "execute_result"
    }
   ],
   "source": [
    "df_parquet.shape"
   ]
  },
  {
   "cell_type": "code",
   "execution_count": 8,
   "id": "34342807",
   "metadata": {},
   "outputs": [
    {
     "data": {
      "text/plain": [
       "label\n",
       "0    6879056\n",
       "1    1722730\n",
       "2     381790\n",
       "3     288157\n",
       "4     158930\n",
       "Name: count, dtype: int64"
      ]
     },
     "execution_count": 8,
     "metadata": {},
     "output_type": "execute_result"
    }
   ],
   "source": [
    "df_parquet['label'].value_counts()\n"
   ]
  },
  {
   "cell_type": "code",
   "execution_count": 5,
   "id": "f3b8d6b0",
   "metadata": {},
   "outputs": [],
   "source": [
    "df = pd.concat([x_train, y_train], axis=1)"
   ]
  },
  {
   "cell_type": "code",
   "execution_count": 1,
   "id": "44f79e9d",
   "metadata": {},
   "outputs": [
    {
     "ename": "NameError",
     "evalue": "name 'pd' is not defined",
     "output_type": "error",
     "traceback": [
      "\u001b[31m---------------------------------------------------------------------------\u001b[39m",
      "\u001b[31mNameError\u001b[39m                                 Traceback (most recent call last)",
      "\u001b[36mCell\u001b[39m\u001b[36m \u001b[39m\u001b[32mIn[1]\u001b[39m\u001b[32m, line 1\u001b[39m\n\u001b[32m----> \u001b[39m\u001b[32m1\u001b[39m df_reduced_quant = \u001b[43mpd\u001b[49m.read_csv(\u001b[33m\"\u001b[39m\u001b[33mdf_reduced_quant.csv\u001b[39m\u001b[33m\"\u001b[39m)\n",
      "\u001b[31mNameError\u001b[39m: name 'pd' is not defined"
     ]
    }
   ],
   "source": [
    "df_reduced_quant = pd.read_csv(\"df_reduced_quant.csv\")"
   ]
  },
  {
   "cell_type": "code",
   "execution_count": 15,
   "id": "7355f276",
   "metadata": {},
   "outputs": [],
   "source": [
    "df = df_reduced_quant"
   ]
  },
  {
   "cell_type": "code",
   "execution_count": 16,
   "id": "ded01ed3",
   "metadata": {},
   "outputs": [
    {
     "data": {
      "text/plain": [
       "float64    21\n",
       "int64      18\n",
       "Name: count, dtype: int64"
      ]
     },
     "execution_count": 16,
     "metadata": {},
     "output_type": "execute_result"
    }
   ],
   "source": [
    "df.dtypes.value_counts()"
   ]
  },
  {
   "cell_type": "code",
   "execution_count": null,
   "id": "4f2356b5",
   "metadata": {},
   "outputs": [],
   "source": []
  },
  {
   "cell_type": "code",
   "execution_count": 2,
   "id": "d0e1447b",
   "metadata": {},
   "outputs": [
    {
     "name": "stderr",
     "output_type": "stream",
     "text": [
      "c:\\Users\\mikae\\toCode\\Artigo_IA\\ondocker\\venv\\Lib\\site-packages\\pandas\\core\\dtypes\\astype.py:133: RuntimeWarning: overflow encountered in cast\n",
      "  return arr.astype(dtype, copy=True)\n",
      "c:\\Users\\mikae\\toCode\\Artigo_IA\\ondocker\\venv\\Lib\\site-packages\\pandas\\core\\dtypes\\astype.py:133: RuntimeWarning: overflow encountered in cast\n",
      "  return arr.astype(dtype, copy=True)\n",
      "c:\\Users\\mikae\\toCode\\Artigo_IA\\ondocker\\venv\\Lib\\site-packages\\pandas\\core\\dtypes\\astype.py:133: RuntimeWarning: overflow encountered in cast\n",
      "  return arr.astype(dtype, copy=True)\n",
      "c:\\Users\\mikae\\toCode\\Artigo_IA\\ondocker\\venv\\Lib\\site-packages\\pandas\\core\\dtypes\\astype.py:133: RuntimeWarning: overflow encountered in cast\n",
      "  return arr.astype(dtype, copy=True)\n",
      "c:\\Users\\mikae\\toCode\\Artigo_IA\\ondocker\\venv\\Lib\\site-packages\\pandas\\core\\dtypes\\astype.py:133: RuntimeWarning: overflow encountered in cast\n",
      "  return arr.astype(dtype, copy=True)\n",
      "c:\\Users\\mikae\\toCode\\Artigo_IA\\ondocker\\venv\\Lib\\site-packages\\pandas\\core\\dtypes\\astype.py:133: RuntimeWarning: overflow encountered in cast\n",
      "  return arr.astype(dtype, copy=True)\n",
      "c:\\Users\\mikae\\toCode\\Artigo_IA\\ondocker\\venv\\Lib\\site-packages\\pandas\\core\\dtypes\\astype.py:133: RuntimeWarning: overflow encountered in cast\n",
      "  return arr.astype(dtype, copy=True)\n",
      "c:\\Users\\mikae\\toCode\\Artigo_IA\\ondocker\\venv\\Lib\\site-packages\\pandas\\core\\dtypes\\astype.py:133: RuntimeWarning: overflow encountered in cast\n",
      "  return arr.astype(dtype, copy=True)\n",
      "c:\\Users\\mikae\\toCode\\Artigo_IA\\ondocker\\venv\\Lib\\site-packages\\pandas\\core\\dtypes\\astype.py:133: RuntimeWarning: overflow encountered in cast\n",
      "  return arr.astype(dtype, copy=True)\n",
      "c:\\Users\\mikae\\toCode\\Artigo_IA\\ondocker\\venv\\Lib\\site-packages\\pandas\\core\\dtypes\\astype.py:133: RuntimeWarning: overflow encountered in cast\n",
      "  return arr.astype(dtype, copy=True)\n",
      "c:\\Users\\mikae\\toCode\\Artigo_IA\\ondocker\\venv\\Lib\\site-packages\\pandas\\core\\dtypes\\astype.py:133: RuntimeWarning: overflow encountered in cast\n",
      "  return arr.astype(dtype, copy=True)\n",
      "c:\\Users\\mikae\\toCode\\Artigo_IA\\ondocker\\venv\\Lib\\site-packages\\pandas\\core\\dtypes\\astype.py:133: RuntimeWarning: overflow encountered in cast\n",
      "  return arr.astype(dtype, copy=True)\n",
      "c:\\Users\\mikae\\toCode\\Artigo_IA\\ondocker\\venv\\Lib\\site-packages\\pandas\\core\\dtypes\\astype.py:133: RuntimeWarning: overflow encountered in cast\n",
      "  return arr.astype(dtype, copy=True)\n",
      "c:\\Users\\mikae\\toCode\\Artigo_IA\\ondocker\\venv\\Lib\\site-packages\\pandas\\core\\dtypes\\astype.py:133: RuntimeWarning: overflow encountered in cast\n",
      "  return arr.astype(dtype, copy=True)\n",
      "c:\\Users\\mikae\\toCode\\Artigo_IA\\ondocker\\venv\\Lib\\site-packages\\pandas\\core\\dtypes\\astype.py:133: RuntimeWarning: overflow encountered in cast\n",
      "  return arr.astype(dtype, copy=True)\n",
      "c:\\Users\\mikae\\toCode\\Artigo_IA\\ondocker\\venv\\Lib\\site-packages\\pandas\\core\\dtypes\\astype.py:133: RuntimeWarning: overflow encountered in cast\n",
      "  return arr.astype(dtype, copy=True)\n",
      "c:\\Users\\mikae\\toCode\\Artigo_IA\\ondocker\\venv\\Lib\\site-packages\\pandas\\core\\dtypes\\astype.py:133: RuntimeWarning: overflow encountered in cast\n",
      "  return arr.astype(dtype, copy=True)\n",
      "c:\\Users\\mikae\\toCode\\Artigo_IA\\ondocker\\venv\\Lib\\site-packages\\pandas\\core\\dtypes\\astype.py:133: RuntimeWarning: overflow encountered in cast\n",
      "  return arr.astype(dtype, copy=True)\n",
      "c:\\Users\\mikae\\toCode\\Artigo_IA\\ondocker\\venv\\Lib\\site-packages\\pandas\\core\\dtypes\\astype.py:133: RuntimeWarning: overflow encountered in cast\n",
      "  return arr.astype(dtype, copy=True)\n",
      "c:\\Users\\mikae\\toCode\\Artigo_IA\\ondocker\\venv\\Lib\\site-packages\\pandas\\core\\dtypes\\astype.py:133: RuntimeWarning: overflow encountered in cast\n",
      "  return arr.astype(dtype, copy=True)\n",
      "c:\\Users\\mikae\\toCode\\Artigo_IA\\ondocker\\venv\\Lib\\site-packages\\pandas\\core\\dtypes\\astype.py:133: RuntimeWarning: overflow encountered in cast\n",
      "  return arr.astype(dtype, copy=True)\n",
      "c:\\Users\\mikae\\toCode\\Artigo_IA\\ondocker\\venv\\Lib\\site-packages\\pandas\\core\\dtypes\\astype.py:133: RuntimeWarning: overflow encountered in cast\n",
      "  return arr.astype(dtype, copy=True)\n",
      "c:\\Users\\mikae\\toCode\\Artigo_IA\\ondocker\\venv\\Lib\\site-packages\\pandas\\core\\dtypes\\astype.py:133: RuntimeWarning: overflow encountered in cast\n",
      "  return arr.astype(dtype, copy=True)\n",
      "c:\\Users\\mikae\\toCode\\Artigo_IA\\ondocker\\venv\\Lib\\site-packages\\pandas\\core\\dtypes\\astype.py:133: RuntimeWarning: overflow encountered in cast\n",
      "  return arr.astype(dtype, copy=True)\n",
      "c:\\Users\\mikae\\toCode\\Artigo_IA\\ondocker\\venv\\Lib\\site-packages\\pandas\\core\\dtypes\\astype.py:133: RuntimeWarning: overflow encountered in cast\n",
      "  return arr.astype(dtype, copy=True)\n",
      "c:\\Users\\mikae\\toCode\\Artigo_IA\\ondocker\\venv\\Lib\\site-packages\\pandas\\core\\dtypes\\astype.py:133: RuntimeWarning: overflow encountered in cast\n",
      "  return arr.astype(dtype, copy=True)\n",
      "c:\\Users\\mikae\\toCode\\Artigo_IA\\ondocker\\venv\\Lib\\site-packages\\pandas\\core\\dtypes\\astype.py:133: RuntimeWarning: overflow encountered in cast\n",
      "  return arr.astype(dtype, copy=True)\n",
      "c:\\Users\\mikae\\toCode\\Artigo_IA\\ondocker\\venv\\Lib\\site-packages\\pandas\\core\\dtypes\\astype.py:133: RuntimeWarning: overflow encountered in cast\n",
      "  return arr.astype(dtype, copy=True)\n",
      "c:\\Users\\mikae\\toCode\\Artigo_IA\\ondocker\\venv\\Lib\\site-packages\\pandas\\core\\dtypes\\astype.py:133: RuntimeWarning: overflow encountered in cast\n",
      "  return arr.astype(dtype, copy=True)\n",
      "c:\\Users\\mikae\\toCode\\Artigo_IA\\ondocker\\venv\\Lib\\site-packages\\pandas\\core\\dtypes\\astype.py:133: RuntimeWarning: overflow encountered in cast\n",
      "  return arr.astype(dtype, copy=True)\n",
      "c:\\Users\\mikae\\toCode\\Artigo_IA\\ondocker\\venv\\Lib\\site-packages\\pandas\\core\\dtypes\\astype.py:133: RuntimeWarning: overflow encountered in cast\n",
      "  return arr.astype(dtype, copy=True)\n",
      "c:\\Users\\mikae\\toCode\\Artigo_IA\\ondocker\\venv\\Lib\\site-packages\\pandas\\core\\dtypes\\astype.py:133: RuntimeWarning: overflow encountered in cast\n",
      "  return arr.astype(dtype, copy=True)\n",
      "c:\\Users\\mikae\\toCode\\Artigo_IA\\ondocker\\venv\\Lib\\site-packages\\pandas\\core\\dtypes\\astype.py:133: RuntimeWarning: overflow encountered in cast\n",
      "  return arr.astype(dtype, copy=True)\n",
      "c:\\Users\\mikae\\toCode\\Artigo_IA\\ondocker\\venv\\Lib\\site-packages\\pandas\\core\\dtypes\\astype.py:133: RuntimeWarning: overflow encountered in cast\n",
      "  return arr.astype(dtype, copy=True)\n",
      "c:\\Users\\mikae\\toCode\\Artigo_IA\\ondocker\\venv\\Lib\\site-packages\\pandas\\core\\dtypes\\astype.py:133: RuntimeWarning: overflow encountered in cast\n",
      "  return arr.astype(dtype, copy=True)\n",
      "c:\\Users\\mikae\\toCode\\Artigo_IA\\ondocker\\venv\\Lib\\site-packages\\pandas\\core\\dtypes\\astype.py:133: RuntimeWarning: overflow encountered in cast\n",
      "  return arr.astype(dtype, copy=True)\n",
      "c:\\Users\\mikae\\toCode\\Artigo_IA\\ondocker\\venv\\Lib\\site-packages\\pandas\\core\\dtypes\\astype.py:133: RuntimeWarning: overflow encountered in cast\n",
      "  return arr.astype(dtype, copy=True)\n",
      "c:\\Users\\mikae\\toCode\\Artigo_IA\\ondocker\\venv\\Lib\\site-packages\\pandas\\core\\dtypes\\astype.py:133: RuntimeWarning: overflow encountered in cast\n",
      "  return arr.astype(dtype, copy=True)\n",
      "c:\\Users\\mikae\\toCode\\Artigo_IA\\ondocker\\venv\\Lib\\site-packages\\pandas\\core\\dtypes\\astype.py:133: RuntimeWarning: overflow encountered in cast\n",
      "  return arr.astype(dtype, copy=True)\n",
      "c:\\Users\\mikae\\toCode\\Artigo_IA\\ondocker\\venv\\Lib\\site-packages\\pandas\\core\\dtypes\\astype.py:133: RuntimeWarning: overflow encountered in cast\n",
      "  return arr.astype(dtype, copy=True)\n",
      "c:\\Users\\mikae\\toCode\\Artigo_IA\\ondocker\\venv\\Lib\\site-packages\\pandas\\core\\dtypes\\astype.py:133: RuntimeWarning: overflow encountered in cast\n",
      "  return arr.astype(dtype, copy=True)\n",
      "c:\\Users\\mikae\\toCode\\Artigo_IA\\ondocker\\venv\\Lib\\site-packages\\pandas\\core\\dtypes\\astype.py:133: RuntimeWarning: overflow encountered in cast\n",
      "  return arr.astype(dtype, copy=True)\n",
      "c:\\Users\\mikae\\toCode\\Artigo_IA\\ondocker\\venv\\Lib\\site-packages\\pandas\\core\\dtypes\\astype.py:133: RuntimeWarning: overflow encountered in cast\n",
      "  return arr.astype(dtype, copy=True)\n",
      "c:\\Users\\mikae\\toCode\\Artigo_IA\\ondocker\\venv\\Lib\\site-packages\\pandas\\core\\dtypes\\astype.py:133: RuntimeWarning: overflow encountered in cast\n",
      "  return arr.astype(dtype, copy=True)\n",
      "c:\\Users\\mikae\\toCode\\Artigo_IA\\ondocker\\venv\\Lib\\site-packages\\pandas\\core\\dtypes\\astype.py:133: RuntimeWarning: overflow encountered in cast\n",
      "  return arr.astype(dtype, copy=True)\n",
      "c:\\Users\\mikae\\toCode\\Artigo_IA\\ondocker\\venv\\Lib\\site-packages\\pandas\\core\\dtypes\\astype.py:133: RuntimeWarning: overflow encountered in cast\n",
      "  return arr.astype(dtype, copy=True)\n",
      "c:\\Users\\mikae\\toCode\\Artigo_IA\\ondocker\\venv\\Lib\\site-packages\\pandas\\core\\dtypes\\astype.py:133: RuntimeWarning: overflow encountered in cast\n",
      "  return arr.astype(dtype, copy=True)\n",
      "c:\\Users\\mikae\\toCode\\Artigo_IA\\ondocker\\venv\\Lib\\site-packages\\pandas\\core\\dtypes\\astype.py:133: RuntimeWarning: overflow encountered in cast\n",
      "  return arr.astype(dtype, copy=True)\n",
      "c:\\Users\\mikae\\toCode\\Artigo_IA\\ondocker\\venv\\Lib\\site-packages\\pandas\\core\\dtypes\\astype.py:133: RuntimeWarning: overflow encountered in cast\n",
      "  return arr.astype(dtype, copy=True)\n",
      "c:\\Users\\mikae\\toCode\\Artigo_IA\\ondocker\\venv\\Lib\\site-packages\\pandas\\core\\dtypes\\astype.py:133: RuntimeWarning: overflow encountered in cast\n",
      "  return arr.astype(dtype, copy=True)\n",
      "c:\\Users\\mikae\\toCode\\Artigo_IA\\ondocker\\venv\\Lib\\site-packages\\pandas\\core\\dtypes\\astype.py:133: RuntimeWarning: overflow encountered in cast\n",
      "  return arr.astype(dtype, copy=True)\n",
      "c:\\Users\\mikae\\toCode\\Artigo_IA\\ondocker\\venv\\Lib\\site-packages\\pandas\\core\\dtypes\\astype.py:133: RuntimeWarning: overflow encountered in cast\n",
      "  return arr.astype(dtype, copy=True)\n",
      "c:\\Users\\mikae\\toCode\\Artigo_IA\\ondocker\\venv\\Lib\\site-packages\\pandas\\core\\dtypes\\astype.py:133: RuntimeWarning: overflow encountered in cast\n",
      "  return arr.astype(dtype, copy=True)\n",
      "c:\\Users\\mikae\\toCode\\Artigo_IA\\ondocker\\venv\\Lib\\site-packages\\pandas\\core\\dtypes\\astype.py:133: RuntimeWarning: overflow encountered in cast\n",
      "  return arr.astype(dtype, copy=True)\n"
     ]
    }
   ],
   "source": [
    "import os\n",
    "import pandas as pd\n",
    "import numpy as np\n",
    "\n",
    "def reduzir_tipos(df):\n",
    "    df_otimizado = df.copy()\n",
    "    for col in df.columns:\n",
    "        col_data = df[col]\n",
    "        if pd.api.types.is_numeric_dtype(col_data):\n",
    "            col_min = col_data.min()\n",
    "            col_max = col_data.max()\n",
    "            if set(col_data.unique()).issubset({0, 1}):\n",
    "                df_otimizado[col] = col_data.astype(bool)\n",
    "                continue\n",
    "            if pd.api.types.is_integer_dtype(col_data):\n",
    "                if np.iinfo(np.int8).min <= col_min <= np.iinfo(np.int8).max:\n",
    "                    df_otimizado[col] = col_data.astype(np.int8)\n",
    "                elif np.iinfo(np.int16).min <= col_min <= np.iinfo(np.int16).max:\n",
    "                    df_otimizado[col] = col_data.astype(np.int16)\n",
    "                elif np.iinfo(np.int32).min <= col_min <= np.iinfo(np.int32).max:\n",
    "                    df_otimizado[col] = col_data.astype(np.int32)\n",
    "                else:\n",
    "                    df_otimizado[col] = col_data.astype(np.int64)\n",
    "            elif pd.api.types.is_float_dtype(col_data):\n",
    "                if np.finfo(np.float16).min <= col_min <= np.finfo(np.float16).max:\n",
    "                    df_otimizado[col] = col_data.astype(np.float16)\n",
    "                elif np.finfo(np.float32).min <= col_min <= np.finfo(np.float32).max:\n",
    "                    df_otimizado[col] = col_data.astype(np.float32)\n",
    "                else:\n",
    "                    df_otimizado[col] = col_data.astype(np.float64)\n",
    "    return df_otimizado\n",
    "\n",
    "# Caminho para a pasta com CSVs\n",
    "pasta_csvs = \"./subamostragem\"\n",
    "\n",
    "# Itera sobre todos os arquivos CSV\n",
    "for nome_arquivo in os.listdir(pasta_csvs):\n",
    "    if nome_arquivo.endswith(\".csv\"):\n",
    "        caminho_csv = os.path.join(pasta_csvs, nome_arquivo)\n",
    "        df = pd.read_csv(caminho_csv)\n",
    "        df_otimizado = reduzir_tipos(df)\n",
    "\n",
    "        # Salva como Parquet\n",
    "        nome_parquet = nome_arquivo.replace(\".csv\", \".parquet\")\n",
    "        caminho_parquet = os.path.join(pasta_csvs, nome_parquet)\n",
    "        df_otimizado.to_parquet(caminho_parquet, index=False)\n"
   ]
  },
  {
   "cell_type": "code",
   "execution_count": 19,
   "id": "8cf4897a",
   "metadata": {},
   "outputs": [],
   "source": [
    "df_teste.to_parquet(\"df_teste.parquet\", index=False)"
   ]
  },
  {
   "cell_type": "code",
   "execution_count": 4,
   "id": "53caecf1",
   "metadata": {},
   "outputs": [
    {
     "data": {
      "text/plain": [
       "int32      15\n",
       "float32    11\n",
       "float16     8\n",
       "float64     2\n",
       "int8        2\n",
       "int64       1\n",
       "Name: count, dtype: int64"
      ]
     },
     "execution_count": 4,
     "metadata": {},
     "output_type": "execute_result"
    }
   ],
   "source": [
    "df_teste1 = pd.read_parquet(\"df.parquet\")\n",
    "df_teste1.dtypes.value_counts()"
   ]
  },
  {
   "cell_type": "code",
   "execution_count": 27,
   "id": "46ca45cf",
   "metadata": {},
   "outputs": [
    {
     "data": {
      "text/plain": [
       "0"
      ]
     },
     "execution_count": 27,
     "metadata": {},
     "output_type": "execute_result"
    }
   ],
   "source": [
    "del  df_teste1\n",
    "gc.collect()"
   ]
  },
  {
   "cell_type": "code",
   "execution_count": 6,
   "id": "6fc36f06",
   "metadata": {},
   "outputs": [
    {
     "name": "stdout",
     "output_type": "stream",
     "text": [
      "<class 'pandas.core.frame.DataFrame'>\n",
      "RangeIndex: 9430663 entries, 0 to 9430662\n",
      "Data columns (total 39 columns):\n",
      " #   Column             Dtype  \n",
      "---  ------             -----  \n",
      " 0   fwd_iat_mean       float32\n",
      " 1   bwd_pkt_len_mean   float16\n",
      " 2   fwd_iat_tot        float32\n",
      " 3   pkt_len_var        float32\n",
      " 4   init_fwd_win_byts  int32  \n",
      " 5   subflow_bwd_byts   int32  \n",
      " 6   pkt_len_mean       float16\n",
      " 7   pkt_size_avg       float16\n",
      " 8   bwd_header_len     int32  \n",
      " 9   totlen_bwd_pkts    float32\n",
      " 10  fwd_act_data_pkts  int32  \n",
      " 11  flow_byts/s        float64\n",
      " 12  flow_iat_mean      float32\n",
      " 13  fwd_pkts/s         float32\n",
      " 14  tot_bwd_pkts       int32  \n",
      " 15  flow_pkts/s        float64\n",
      " 16  bwd_pkt_len_std    float16\n",
      " 17  pkt_len_std        float16\n",
      " 18  bwd_seg_size_avg   float16\n",
      " 19  fwd_iat_min        float32\n",
      " 20  pkt_len_max        int32  \n",
      " 21  flow_iat_max       float32\n",
      " 22  tot_fwd_pkts       int32  \n",
      " 23  bwd_pkt_len_max    int32  \n",
      " 24  bwd_pkts/s         float32\n",
      " 25  flow_iat_min       float32\n",
      " 26  fwd_header_len     int32  \n",
      " 27  fwd_seg_size_min   int8   \n",
      " 28  totlen_fwd_pkts    int32  \n",
      " 29  fwd_pkt_len_mean   float16\n",
      " 30  flow_duration      int64  \n",
      " 31  subflow_bwd_pkts   int32  \n",
      " 32  fwd_iat_max        float32\n",
      " 33  fwd_seg_size_avg   float16\n",
      " 34  init_bwd_win_byts  int32  \n",
      " 35  fwd_pkt_len_max    int32  \n",
      " 36  subflow_fwd_pkts   int32  \n",
      " 37  subflow_fwd_byts   int32  \n",
      " 38  label              int8   \n",
      "dtypes: float16(8), float32(11), float64(2), int32(15), int64(1), int8(2)\n",
      "memory usage: 1.3 GB\n"
     ]
    }
   ],
   "source": [
    "df_teste1.info()"
   ]
  },
  {
   "cell_type": "code",
   "execution_count": 7,
   "id": "af87b0ba",
   "metadata": {},
   "outputs": [
    {
     "data": {
      "text/plain": [
       "0     2\n",
       "1     1\n",
       "2     1\n",
       "3     1\n",
       "4     1\n",
       "5     1\n",
       "6     1\n",
       "7     1\n",
       "8     1\n",
       "9     1\n",
       "10    1\n",
       "11    1\n",
       "12    1\n",
       "13    1\n",
       "14    1\n",
       "15    1\n",
       "16    1\n",
       "17    1\n",
       "18    1\n",
       "19    1\n",
       "20    1\n",
       "21    1\n",
       "22    1\n",
       "23    1\n",
       "24    1\n",
       "25    1\n",
       "26    1\n",
       "27    1\n",
       "28    1\n",
       "29    1\n",
       "30    1\n",
       "31    1\n",
       "32    1\n",
       "33    1\n",
       "34    1\n",
       "35    1\n",
       "36    1\n",
       "37    1\n",
       "Name: count, dtype: int64"
      ]
     },
     "execution_count": 7,
     "metadata": {},
     "output_type": "execute_result"
    }
   ],
   "source": [
    "df.columns.value_counts()"
   ]
  },
  {
   "cell_type": "code",
   "execution_count": null,
   "id": "e8b687a4",
   "metadata": {},
   "outputs": [],
   "source": [
    "x = df.drop('label', axis=1)\n",
    "y = df['label']\n",
    "\n",
    "x_clean = x.replace([np.inf, -np.inf], np.nan)\n",
    "x_clean = x_clean.fillna(x_clean.mean())\n",
    "\n",
    "x1 = x_clean.values\n",
    "y1 = y.values"
   ]
  },
  {
   "cell_type": "code",
   "execution_count": 8,
   "id": "fd09ba67",
   "metadata": {},
   "outputs": [],
   "source": [
    "del df_otimizado, x, y, x_clean"
   ]
  },
  {
   "cell_type": "code",
   "execution_count": 9,
   "id": "fa20e519",
   "metadata": {},
   "outputs": [],
   "source": [
    "rf = RandomForestClassifier(n_estimators=200, max_depth=30, n_jobs=-1, random_state=42)\n",
    "kf = KFold(n_splits=10, shuffle=True, random_state=42)\n",
    "\n",
    "test_scores_RF_mdi, precision_scores_RF_mdi, recall_scores_RF_mdi, f1_scores_RF_mdi = [], [], [], []\n",
    "feature_importances_list = []\n",
    "\n",
    "rf_base = RandomForestClassifier(max_features='sqrt', random_state=42)"
   ]
  },
  {
   "cell_type": "code",
   "execution_count": 10,
   "id": "441c94bb",
   "metadata": {},
   "outputs": [
    {
     "data": {
      "text/plain": [
       "72"
      ]
     },
     "execution_count": 10,
     "metadata": {},
     "output_type": "execute_result"
    }
   ],
   "source": [
    "X_train, X_test, Y_train, Y_test = train_test_split(x1, y1, test_size=0.2, stratify=y1, random_state=42)\n",
    "\n",
    "rf.fit(X_train, Y_train)\n",
    "\n",
    "feature_importances_list.append(rf.feature_importances_)\n",
    "\n",
    "y_pred = rf.predict(X_test)\n",
    "test_scores_RF_mdi.append(accuracy_score(Y_test, y_pred))\n",
    "precision_scores_RF_mdi.append(precision_score(Y_test, y_pred, average='weighted'))\n",
    "recall_scores_RF_mdi.append(recall_score(Y_test, y_pred, average='weighted'))\n",
    "f1_scores_RF_mdi.append(f1_score(Y_test, y_pred, average='weighted'))\n",
    "\n",
    "del X_train, X_test, Y_train, Y_test, rf, y_pred\n",
    "gc.collect()"
   ]
  },
  {
   "cell_type": "code",
   "execution_count": 13,
   "id": "a3c9f5f9",
   "metadata": {},
   "outputs": [],
   "source": [
    "# Redução de features\n",
    "importances_mean = np.mean(feature_importances_list, axis=0)\n",
    "importances_series = pd.Series(importances_mean, index=df_otimizado.drop('label', axis=1).columns)\n",
    "selected_features = importances_series[importances_series >= importances_series.median()].index.tolist()\n",
    "df_reduced = df_otimizado[selected_features + ['label']]"
   ]
  },
  {
   "cell_type": "code",
   "execution_count": 14,
   "id": "988a62f7",
   "metadata": {},
   "outputs": [],
   "source": [
    "metrics_mdi = pd.DataFrame({\n",
    "    \"Modelo\": [\"RandomForest\"],\n",
    "    \"Acurácia\": [np.mean(test_scores_RF_mdi)],\n",
    "    \"Precisão\": [np.mean(precision_scores_RF_mdi)],\n",
    "    \"Recall\": [np.mean(recall_scores_RF_mdi)],\n",
    "    \"F1 Score\": [np.mean(f1_scores_RF_mdi)]\n",
    "})\n",
    "\n",
    "metrics_mdi.to_csv(\"metrics_mdi.csv\", index=False)\n",
    "df_reduced.to_csv(\"df_reduced_quant.csv\", index=False)"
   ]
  },
  {
   "cell_type": "code",
   "execution_count": 17,
   "id": "f4350e05",
   "metadata": {},
   "outputs": [
    {
     "data": {
      "text/plain": [
       "39"
      ]
     },
     "execution_count": 17,
     "metadata": {},
     "output_type": "execute_result"
    }
   ],
   "source": [
    "df_reduced.columns.__len__()"
   ]
  },
  {
   "cell_type": "code",
   "execution_count": 5,
   "id": "16452d69",
   "metadata": {},
   "outputs": [
    {
     "name": "stderr",
     "output_type": "stream",
     "text": [
      "C:\\Users\\mikae\\AppData\\Local\\Temp\\ipykernel_3068\\286496714.py:1: DeprecationWarning: DataFrameGroupBy.apply operated on the grouping columns. This behavior is deprecated, and in a future version of pandas the grouping columns will be excluded from the operation. Either pass `include_groups=False` to exclude the groupings or explicitly select the grouping columns after groupby to silence this warning.\n",
      "  df_sampled = df.groupby('label').apply(lambda x: x.sample(n=1000, random_state=42)).reset_index(drop=True)\n"
     ]
    }
   ],
   "source": [
    "df_sampled = df.groupby('label').apply(lambda x: x.sample(n=1000, random_state=42)).reset_index(drop=True)"
   ]
  },
  {
   "cell_type": "code",
   "execution_count": 6,
   "id": "8463c00c",
   "metadata": {},
   "outputs": [],
   "source": [
    "df_sampled.to_csv(\"df_sampled.csv\", index=False)"
   ]
  },
  {
   "cell_type": "code",
   "execution_count": 7,
   "id": "cb6e9631",
   "metadata": {},
   "outputs": [
    {
     "data": {
      "text/plain": [
       "label\n",
       "0    1000\n",
       "1    1000\n",
       "2    1000\n",
       "3    1000\n",
       "4    1000\n",
       "Name: count, dtype: int64"
      ]
     },
     "execution_count": 7,
     "metadata": {},
     "output_type": "execute_result"
    }
   ],
   "source": [
    "df_sampled['label'].value_counts()"
   ]
  },
  {
   "cell_type": "code",
   "execution_count": null,
   "id": "ddd86fb3",
   "metadata": {},
   "outputs": [],
   "source": []
  },
  {
   "cell_type": "code",
   "execution_count": null,
   "id": "e49c9096",
   "metadata": {},
   "outputs": [],
   "source": []
  },
  {
   "cell_type": "code",
   "execution_count": null,
   "id": "2f287bf6",
   "metadata": {},
   "outputs": [],
   "source": []
  },
  {
   "cell_type": "code",
   "execution_count": null,
   "id": "9ae4fa8b",
   "metadata": {},
   "outputs": [],
   "source": [
    "import os\n",
    "import gc\n",
    "import joblib\n",
    "import numpy as np\n",
    "import pandas as pd\n",
    "\n",
    "from collections import Counter\n",
    "from pandas.util import hash_pandas_object\n",
    "\n",
    "from sklearn.model_selection import KFold, train_test_split, GridSearchCV\n",
    "from sklearn.preprocessing import StandardScaler\n",
    "from sklearn.metrics import accuracy_score, precision_score, recall_score, f1_score\n",
    "from sklearn.neighbors import KNeighborsClassifier\n",
    "from sklearn.tree import DecisionTreeClassifier\n",
    "from sklearn.ensemble import RandomForestClassifier\n",
    "from imblearn.under_sampling import ClusterCentroids\n",
    "from sklearn.cluster import MiniBatchKMeans\n",
    "\n",
    "from imblearn.under_sampling import NearMiss\n",
    "from scipy.stats import wilcoxon"
   ]
  },
  {
   "cell_type": "code",
   "execution_count": 9,
   "id": "8ea264a8",
   "metadata": {},
   "outputs": [],
   "source": [
    "df_reduced = pd.read_parquet(\"df.parquet\")"
   ]
  },
  {
   "cell_type": "code",
   "execution_count": null,
   "id": "3703498d",
   "metadata": {},
   "outputs": [
    {
     "name": "stderr",
     "output_type": "stream",
     "text": [
      "c:\\Users\\mikae\\toCode\\Artigo_IA\\ondocker\\venv\\Lib\\site-packages\\pandas\\core\\nanops.py:1496: RuntimeWarning: overflow encountered in cast\n",
      "  return count.astype(dtype, copy=False)\n",
      "c:\\Users\\mikae\\toCode\\Artigo_IA\\ondocker\\venv\\Lib\\site-packages\\numpy\\_core\\_methods.py:52: RuntimeWarning: overflow encountered in reduce\n",
      "  return umr_sum(a, axis, dtype, out, keepdims, initial, where)\n"
     ]
    }
   ],
   "source": [
    " # KFold\n",
    "kf = KFold(n_splits=10, shuffle=True, random_state=42)\n",
    "scaler = StandardScaler()\n",
    "\n",
    "x = df_reduced.drop('label', axis=1)\n",
    "y = df_reduced['label']   \n",
    "\n",
    "x_clean = x.replace([np.inf, -np.inf], np.nan)\n",
    "x_clean = x_clean.fillna(x_clean.mean())\n",
    "\n",
    "x1 = x_clean.values\n",
    "y1 = y.values"
   ]
  },
  {
   "cell_type": "code",
   "execution_count": 11,
   "id": "19a480eb",
   "metadata": {},
   "outputs": [
    {
     "data": {
      "text/plain": [
       "3717"
      ]
     },
     "execution_count": 11,
     "metadata": {},
     "output_type": "execute_result"
    }
   ],
   "source": [
    "del df_reduced, x, y, x_clean\n",
    "gc.collect()"
   ]
  },
  {
   "cell_type": "code",
   "execution_count": null,
   "id": "112db851",
   "metadata": {},
   "outputs": [],
   "source": [
    "for fold_index, (train_index, test_index) in enumerate(kf.split(x1)):\n",
    "    X_train, X_test = x1[train_index], x1[test_index]\n",
    "    Y_train, Y_test = y1[train_index], y1[test_index]\n",
    "\n",
    "    cc = ClusterCentroids(\n",
    "        estimator=MiniBatchKMeans(n_init=1, random_state=0),\n",
    "        random_state=42\n",
    "    )\n",
    "    X_resampled, Y_resampled = cc.fit_resample(X_train, Y_train)\n",
    "\n",
    "    hash_train = hash_pandas_object(pd.DataFrame(X_train)).values\n",
    "    hash_resampled = hash_pandas_object(pd.DataFrame(X_resampled)).values\n",
    "    selected_mask = np.isin(hash_train, hash_resampled)\n",
    "\n",
    "    X_discarded = X_train[~selected_mask]\n",
    "    Y_discarded = Y_train[~selected_mask]\n",
    "\n",
    "    X_test = np.concatenate((X_test, X_discarded), axis=0)\n",
    "    Y_test = np.concatenate((Y_test, Y_discarded), axis=0)\n",
    "\n",
    "    X_train, Y_train = X_resampled, Y_resampled\n",
    "\n",
    "    X_train_val, X_test_val, y_train_val, y_test_val = train_test_split(X_train, Y_train, random_state=42, test_size=0.2)\n",
    "\n",
    "    # normalização\n",
    "    X_train_val = scaler.fit_transform(X_train_val)\n",
    "    X_test_val = scaler.transform(X_test_val)\n",
    "    X_train = scaler.fit_transform(X_train)\n",
    "    X_test = scaler.transform(X_test)\n",
    "\n",
    "    os.makedirs(f\"fold_{fold_index}\", exist_ok=True)\n",
    "\n",
    "    pd.DataFrame(X_train_val).to_parquet(f\"fold_{fold_index}/X_train_val_fold{fold_index}.parquet\", index=False)\n",
    "    pd.DataFrame(X_test_val).to_parquet(f\"fold_{fold_index}/X_test_val_fold{fold_index}.parquet\", index=False)\n",
    "    pd.DataFrame(y_train_val).to_parquet(f\"fold_{fold_index}/Y_train_val_fold{fold_index}.parquet\", index=False)\n",
    "    pd.DataFrame(y_test_val).to_parquet(f\"fold_{fold_index}/Y_test_val_fold{fold_index}.parquet\", index=False)\n",
    "    pd.DataFrame(X_train).to_parquet(f\"fold_{fold_index}/X_train_fold{fold_index}.parquet\", index=False)\n",
    "    pd.DataFrame(X_test).to_parquet(f\"fold_{fold_index}/X_test_fold{fold_index}.parquet\", index=False)\n",
    "    pd.DataFrame(Y_train).to_parquet(f\"fold_{fold_index}/Y_train_fold{fold_index}.parquet\", index=False)\n",
    "    pd.DataFrame(Y_test).to_parquet(f\"fold_{fold_index}/Y_test_fold{fold_index}.parquet\", index=False)\n",
    "\n",
    "    del X_train, X_test, Y_train, Y_test, X_train_val, X_test_val, y_train_val, y_test_val, \\\n",
    "        X_resampled, Y_resampled, X_discarded, Y_discarded, hash_train, hash_resampled, selected_mask\n",
    "    gc.collect()\n"
   ]
  }
 ],
 "metadata": {
  "kernelspec": {
   "display_name": "venv",
   "language": "python",
   "name": "python3"
  },
  "language_info": {
   "codemirror_mode": {
    "name": "ipython",
    "version": 3
   },
   "file_extension": ".py",
   "mimetype": "text/x-python",
   "name": "python",
   "nbconvert_exporter": "python",
   "pygments_lexer": "ipython3",
   "version": "3.13.1"
  }
 },
 "nbformat": 4,
 "nbformat_minor": 5
}
